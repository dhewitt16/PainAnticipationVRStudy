{
 "cells": [
  {
   "cell_type": "code",
   "execution_count": 54,
   "id": "f34331f7",
   "metadata": {},
   "outputs": [],
   "source": [
    "import pandas as pd\n",
    "\n",
    "# Load the list of DataFrames from the pickle file\n",
    "dataframe_list = pd.read_pickle('/Users/dhewitt/Data/pps/P30/P30_dataframelist.pkl')"
   ]
  },
  {
   "cell_type": "code",
   "execution_count": 55,
   "id": "ed4fe305",
   "metadata": {},
   "outputs": [],
   "source": [
    "dataframe_list_copy = dataframe_list.copy()"
   ]
  },
  {
   "cell_type": "code",
   "execution_count": 56,
   "id": "440d159f",
   "metadata": {},
   "outputs": [
    {
     "name": "stdout",
     "output_type": "stream",
     "text": [
      "362\n"
     ]
    }
   ],
   "source": [
    "print(len(dataframe_list_copy))"
   ]
  },
  {
   "cell_type": "code",
   "execution_count": 57,
   "id": "bc03e67c",
   "metadata": {},
   "outputs": [],
   "source": [
    "# List of indexes to delete\n",
    "indexes_to_delete = [181,180] #make sure it's in descending order so there are no shifted indexing issues\n",
    "\n",
    "# Create a list of removed DataFrames\n",
    "removed_dfs = [dataframe_list_copy.pop(i) for i in sorted(indexes_to_delete, reverse=True)]"
   ]
  },
  {
   "cell_type": "code",
   "execution_count": 58,
   "id": "71db776b",
   "metadata": {},
   "outputs": [
    {
     "name": "stdout",
     "output_type": "stream",
     "text": [
      "360\n"
     ]
    }
   ],
   "source": [
    "print(len(dataframe_list_copy))"
   ]
  },
  {
   "cell_type": "code",
   "execution_count": 59,
   "id": "5471ca01",
   "metadata": {},
   "outputs": [],
   "source": [
    "pd.to_pickle(dataframe_list_copy, '/Users/dhewitt/Data/pps/P30/P30_dataframelist.pkl')"
   ]
  },
  {
   "cell_type": "code",
   "execution_count": null,
   "id": "1f6cc433",
   "metadata": {},
   "outputs": [],
   "source": []
  }
 ],
 "metadata": {
  "kernelspec": {
   "display_name": "Python 3 (ipykernel)",
   "language": "python",
   "name": "python3"
  },
  "language_info": {
   "codemirror_mode": {
    "name": "ipython",
    "version": 3
   },
   "file_extension": ".py",
   "mimetype": "text/x-python",
   "name": "python",
   "nbconvert_exporter": "python",
   "pygments_lexer": "ipython3",
   "version": "3.9.13"
  }
 },
 "nbformat": 4,
 "nbformat_minor": 5
}
