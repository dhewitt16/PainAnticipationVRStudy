{
 "cells": [
  {
   "cell_type": "code",
   "execution_count": 12,
   "id": "1f8c62d3",
   "metadata": {},
   "outputs": [],
   "source": [
    "import json\n",
    "import os\n",
    "import pandas as pd\n",
    "import numpy as np\n",
    "import scipy.stats\n",
    "from scipy import stats, ndimage\n",
    "from scipy.signal import butter, lfilter, medfilt\n",
    "\n",
    "#Change these for the data\n",
    "\n",
    "trialLength = 3000\n",
    "baselineLength = 1000"
   ]
  },
  {
   "cell_type": "code",
   "execution_count": 13,
   "id": "742020fb",
   "metadata": {},
   "outputs": [],
   "source": [
    "def get_series_from_control(control_data, device_id, check_field, substr, retrieve_field):\n",
    "    return list(map(lambda x: x[retrieve_field],\n",
    "                    list(filter(lambda x: substr in x[check_field] if check_field in x else False, control_data[device_id]))\n",
    "                   ))\n",
    "\n",
    "def get_continuous_frames_block_with_timestamps(unity_data, start_ts, end_ts):\n",
    "    frames = unity_data\n",
    "    ret = []\n",
    "    \n",
    "    for frame in frames:\n",
    "        if frame['timestamp'] > end_ts:\n",
    "            return ret\n",
    "        elif frame['timestamp'] >= start_ts:\n",
    "            ret.append(frame)\n",
    "    return ret\n",
    "    "
   ]
  },
  {
   "cell_type": "code",
   "execution_count": 14,
   "id": "c26160dd",
   "metadata": {},
   "outputs": [],
   "source": [
    "def process_participant(participantID):\n",
    "\n",
    "    path = \"/Users/dhewitt/OneDrive - Nexus365/Data/TTC/\"\n",
    "    \n",
    "    CONTROL_FILE_NAME = os.path.join(path + participantID + \"/\" + participantID + \"__Control_Data__.json\")\n",
    "    UNITY_FILE_NAME = os.path.join(path + participantID + \"/\" + participantID + \"__Device_Data_Unity_C_Sharp_Client_VR__.json\")\n",
    "    PKL_FILE_NAME = os.path.join(path + participantID + \"/\" + participantID + \"_dataframelist.pkl\")\n",
    "\n",
    "    control_data = None\n",
    "    with open(CONTROL_FILE_NAME) as f:\n",
    "        control_data = json.load(f)\n",
    "\n",
    "    #Getting the timestamps for each trial\n",
    "\n",
    "    UNITY_DEVICE_ID = \"o8Y6VNWF7orzDfPGCrJh\"\n",
    "\n",
    "    start_timestamps = get_series_from_control(control_data, UNITY_DEVICE_ID, 'start_new_trial_ttc', '', 'timestamp')\n",
    "\n",
    "    start_timestamps = [x - baselineLength for x in start_timestamps]\n",
    "\n",
    "    unity_data = None\n",
    "    with open(UNITY_FILE_NAME) as f:\n",
    "        unity_data = json.load(f)\n",
    "\n",
    "    frame_chunks_by_start_timestamps = [get_continuous_frames_block_with_timestamps(unity_data, timestamp, timestamp + baselineLength + trialLength) \n",
    "                                        for timestamp in start_timestamps]\n",
    "\n",
    "    df = pd.DataFrame(frame_chunks_by_start_timestamps) #the data is a list: trials x data within each trial. \n",
    "\n",
    "    #Finding the part of the data we want from the list, and making a df from that\n",
    "    dataframe_list = list(map(lambda x: pd.DataFrame(x), frame_chunks_by_start_timestamps))\n",
    "    \n",
    "    pd.to_pickle(dataframe_list, PKL_FILE_NAME)\n",
    "    \n",
    " "
   ]
  },
  {
   "cell_type": "code",
   "execution_count": 15,
   "id": "5fb7d1cf",
   "metadata": {},
   "outputs": [],
   "source": [
    "# List of participant IDs\n",
    "participant_ids = [\"P01\"]  # Add more participant IDs as needed\n",
    "\n",
    "# Loop over each participant\n",
    "for participantID in participant_ids:\n",
    "    # ... (The existing code for processing a single participant will go here)\n",
    "    process_participant(participantID)"
   ]
  },
  {
   "cell_type": "code",
   "execution_count": null,
   "id": "ddb774b1",
   "metadata": {},
   "outputs": [],
   "source": []
  }
 ],
 "metadata": {
  "kernelspec": {
   "display_name": "Python 3 (ipykernel)",
   "language": "python",
   "name": "python3"
  },
  "language_info": {
   "codemirror_mode": {
    "name": "ipython",
    "version": 3
   },
   "file_extension": ".py",
   "mimetype": "text/x-python",
   "name": "python",
   "nbconvert_exporter": "python",
   "pygments_lexer": "ipython3",
   "version": "3.9.13"
  }
 },
 "nbformat": 4,
 "nbformat_minor": 5
}
